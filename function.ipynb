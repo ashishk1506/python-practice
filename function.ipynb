{
 "cells": [
  {
   "cell_type": "code",
   "execution_count": 1,
   "metadata": {},
   "outputs": [
    {
     "name": "stdout",
     "output_type": "stream",
     "text": [
      "30\n"
     ]
    }
   ],
   "source": [
    "def sum(a,b=20):\n",
    "    return a+b\n",
    "s = sum(10)\n",
    "print(s)"
   ]
  },
  {
   "cell_type": "code",
   "execution_count": 3,
   "metadata": {},
   "outputs": [
    {
     "data": {
      "text/plain": [
       "False"
      ]
     },
     "execution_count": 3,
     "metadata": {},
     "output_type": "execute_result"
    }
   ],
   "source": [
    "#check if any number is even\n",
    "\n",
    "def check_even(num):\n",
    "    for x in num:\n",
    "        if x%2 == 0:\n",
    "            return True\n",
    "        else:\n",
    "            pass\n",
    "    return False\n",
    "\n",
    "check_even([1,3])"
   ]
  },
  {
   "cell_type": "code",
   "execution_count": 9,
   "metadata": {},
   "outputs": [
    {
     "name": "stdout",
     "output_type": "stream",
     "text": [
      "ashish\n"
     ]
    }
   ],
   "source": [
    "#tuples unpacking\n",
    "\n",
    "employee = [('abha',100),('anjali',508),('ashish',5000)]\n",
    "\n",
    "def check_employee(employee):\n",
    "    max = 0\n",
    "    best = ''\n",
    "    for x,y in employee:\n",
    "        if y > max:\n",
    "            max = y\n",
    "            best = x\n",
    "    return (best,max)\n",
    "\n",
    "o,m = check_employee(employee)\n",
    "print(o)"
   ]
  },
  {
   "cell_type": "code",
   "execution_count": 17,
   "metadata": {},
   "outputs": [
    {
     "name": "stdout",
     "output_type": "stream",
     "text": [
      "15\n"
     ]
    }
   ],
   "source": [
    "# *arg (...) spread operator\n",
    "a = [1,2,4,5]\n",
    "def sums(*arg):\n",
    "#    arg is tuple\n",
    " c = [*arg]\n",
    " s = sum(c)\n",
    " print(s)\n",
    "sums(1,2,3,4,5)"
   ]
  },
  {
   "cell_type": "code",
   "execution_count": 19,
   "metadata": {},
   "outputs": [
    {
     "name": "stdout",
     "output_type": "stream",
     "text": [
      "{'fruit': 'banana', 'veggie': 'papaya'}\n"
     ]
    }
   ],
   "source": [
    "# **kwarg is keyword argument\n",
    "\n",
    "def names(**kwargs):\n",
    "    print(kwargs)\n",
    "    #returns dictionary\n",
    "names(fruit='banana',veggie='papaya')"
   ]
  },
  {
   "cell_type": "code",
   "execution_count": 1,
   "metadata": {},
   "outputs": [
    {
     "name": "stdout",
     "output_type": "stream",
     "text": [
      "(12, 13, 14)\n",
      "{'fruit': 'banana', 'palha': 'patha'}\n"
     ]
    }
   ],
   "source": [
    "def doubles(*arg,**kwarg):\n",
    "    print(arg)\n",
    "    print(kwarg)\n",
    "doubles(12,13,14,fruit='banana',palha='patha')"
   ]
  },
  {
   "cell_type": "code",
   "execution_count": 6,
   "metadata": {},
   "outputs": [
    {
     "name": "stdout",
     "output_type": "stream",
     "text": [
      "[2, 4]\n"
     ]
    }
   ],
   "source": [
    "def myfunc(*args):\n",
    "    c = []\n",
    "    for x in args:\n",
    "        if x%2==0:\n",
    "         c.append(x)\n",
    "    return c\n",
    "d = myfunc(1,2,3,4,5)\n",
    "print(d)"
   ]
  },
  {
   "cell_type": "code",
   "execution_count": 163,
   "metadata": {},
   "outputs": [
    {
     "name": "stdout",
     "output_type": "stream",
     "text": [
      "AsHiSh\n"
     ]
    }
   ],
   "source": [
    "def myfunc(s):\n",
    "        a = ''\n",
    "        for x,y in enumerate(s):\n",
    "            if(x%2==0):\n",
    "                a = a+y.upper()\n",
    "            else:\n",
    "                a = a+y.lower()\n",
    "        return a\n",
    "        \n",
    "print(myfunc('ashish'))"
   ]
  },
  {
   "cell_type": "code",
   "execution_count": 26,
   "metadata": {},
   "outputs": [
    {
     "name": "stdout",
     "output_type": "stream",
     "text": [
      "5\n"
     ]
    }
   ],
   "source": [
    "def odd_even(a,b):\n",
    "    if a%2!=0 :\n",
    "        return max(a,b)\n",
    "    else :\n",
    "        if b%2 !=0 :\n",
    "            return max(a,b)\n",
    "        else:\n",
    "            return min(a,b)\n",
    "print(odd_even(2,5))\n",
    "   \n",
    "            \n",
    "    "
   ]
  },
  {
   "cell_type": "code",
   "execution_count": 29,
   "metadata": {},
   "outputs": [
    {
     "name": "stdout",
     "output_type": "stream",
     "text": [
      "False\n"
     ]
    }
   ],
   "source": [
    "def two_string(s):\n",
    "    a = s.split(\" \")\n",
    "    if(a[0][0] == a[1][0]):\n",
    "        return True\n",
    "    else:\n",
    "        return False\n",
    "value = two_string('Crazy Kangaroo')\n",
    "print(value)"
   ]
  },
  {
   "cell_type": "code",
   "execution_count": 31,
   "metadata": {},
   "outputs": [
    {
     "name": "stdout",
     "output_type": "stream",
     "text": [
      "False\n"
     ]
    }
   ],
   "source": [
    "def makes_twenty(a,b):\n",
    "    if(a ==20 or b == 20 or (a+b)==20):\n",
    "        return True\n",
    "    else:\n",
    "        return False\n",
    "o = makes_twenty(1,2)\n",
    "print(o)"
   ]
  },
  {
   "cell_type": "code",
   "execution_count": 49,
   "metadata": {},
   "outputs": [
    {
     "name": "stdout",
     "output_type": "stream",
     "text": [
      "AshIsh\n"
     ]
    }
   ],
   "source": [
    "def old_macdonald(name):\n",
    "     return (name[0].upper()+name[1:3]+name[3].upper()+name[4:])\n",
    "print(old_macdonald('ashish'))"
   ]
  },
  {
   "cell_type": "code",
   "execution_count": 53,
   "metadata": {},
   "outputs": [
    {
     "name": "stdout",
     "output_type": "stream",
     "text": [
      "boy bad a is ashish\n"
     ]
    }
   ],
   "source": [
    "def master_yoda(s):\n",
    "    str = s.split(' ')\n",
    "    nstr = str[: :-1]\n",
    "    return \" \".join(nstr)\n",
    "print(master_yoda('ashish is a bad boy'))"
   ]
  },
  {
   "cell_type": "code",
   "execution_count": 58,
   "metadata": {},
   "outputs": [
    {
     "name": "stdout",
     "output_type": "stream",
     "text": [
      "False\n"
     ]
    }
   ],
   "source": [
    "def almost_there(z):\n",
    "    n = abs(z)\n",
    "    if (n>=90 and n<=110) or (n>=190 and n<=210):\n",
    "        return True\n",
    "    else:\n",
    "        return False\n",
    "print(almost_there(150))"
   ]
  },
  {
   "cell_type": "code",
   "execution_count": 155,
   "metadata": {},
   "outputs": [
    {
     "name": "stdout",
     "output_type": "stream",
     "text": [
      "True\n"
     ]
    }
   ],
   "source": [
    "def has_33(nums):\n",
    "  for x in range(0,len(nums)-1) :\n",
    "    if nums[x] == 3 and nums[x+1]==3:\n",
    "        return True\n",
    "    \n",
    "  return False\n",
    "\n",
    "print(has_33([1, 3, 3, 4]))\n"
   ]
  },
  {
   "cell_type": "code",
   "execution_count": 153,
   "metadata": {},
   "outputs": [
    {
     "name": "stdout",
     "output_type": "stream",
     "text": [
      "aaassshhhiiissshhh\n"
     ]
    }
   ],
   "source": [
    "def paper_doll(text):\n",
    "    s=''\n",
    "    for i in text:\n",
    "        for j in range(0,3):\n",
    "            s = s+i\n",
    "    return s\n",
    "print(paper_doll('ashish'))\n",
    "         "
   ]
  },
  {
   "cell_type": "code",
   "execution_count": 81,
   "metadata": {},
   "outputs": [
    {
     "name": "stdout",
     "output_type": "stream",
     "text": [
      "19\n"
     ]
    }
   ],
   "source": [
    "\n",
    "def blackjack(a,b,c):\n",
    "    s = a+b+c\n",
    "    if s<=21:\n",
    "        return s\n",
    "    elif s>21 and (a==11 or b==11 or c==11):\n",
    "        s = s-10\n",
    "        return s\n",
    "    elif s>11:\n",
    "        return 'BUST'\n",
    "            \n",
    "   \n",
    "print(blackjack(9,9,11))"
   ]
  },
  {
   "cell_type": "code",
   "execution_count": 103,
   "metadata": {},
   "outputs": [
    {
     "name": "stdout",
     "output_type": "stream",
     "text": [
      "13\n"
     ]
    }
   ],
   "source": [
    "def summer_69(arr):\n",
    "    flag = 0\n",
    "    sum=0\n",
    "    for x in arr:\n",
    "#       if x ==6 or flag ==1:\n",
    "#         flag = 1\n",
    "#       if x==9:\n",
    "#         flag = 0\n",
    "#       if flag ==0:\n",
    "#         sum = sum+x\n",
    "        if x!=6 and flag ==0:\n",
    "            sum += x\n",
    "        elif x==6:\n",
    "            flag = 1\n",
    "            continue\n",
    "        elif x==9:\n",
    "            flag =0\n",
    "            continue\n",
    "    return sum\n",
    "print(summer_69([2, 1, 6, 7, 9,10]))  "
   ]
  },
  {
   "cell_type": "code",
   "execution_count": 106,
   "metadata": {},
   "outputs": [
    {
     "name": "stdout",
     "output_type": "stream",
     "text": [
      "False\n"
     ]
    }
   ],
   "source": [
    "def spy_game(nums):\n",
    "    flag = 0\n",
    "    for x in nums:\n",
    "        if x==0 and flag==0:\n",
    "            flag=1\n",
    "            continue\n",
    "        elif x==0 and flag==1:\n",
    "            flag =2\n",
    "            continue\n",
    "        elif x==7 and flag==2:\n",
    "            return True\n",
    "    return False\n",
    "print(spy_game([1,7,2,0,4,5,0]))\n",
    "        "
   ]
  },
  {
   "cell_type": "code",
   "execution_count": 165,
   "metadata": {},
   "outputs": [
    {
     "name": "stdout",
     "output_type": "stream",
     "text": [
      "[3, 5, 7]\n"
     ]
    }
   ],
   "source": [
    "def count_primes(num):\n",
    "    p =[]\n",
    "    for x in range(2,num+1):\n",
    "       if checkprime(x) == True:\n",
    "        p.append(x)\n",
    "    print(p)\n",
    "    \n",
    "def checkprime(x):\n",
    "    if x%2 == 0:\n",
    "        return False\n",
    "    else:\n",
    "        for i in range(2,x):\n",
    "            if x%i == 0:\n",
    "              return False\n",
    "            else :\n",
    "              pass\n",
    "        return True\n",
    "         \n",
    "\n",
    "count_primes(9)   "
   ]
  },
  {
   "cell_type": "code",
   "execution_count": 169,
   "metadata": {},
   "outputs": [
    {
     "data": {
      "text/plain": [
       "[1, 4, 9, 16, 25]"
      ]
     },
     "execution_count": 169,
     "metadata": {},
     "output_type": "execute_result"
    }
   ],
   "source": [
    "#map\n",
    "# arr.map((a)=>{return a**2})\n",
    "arr = [1,2,3,4,5]\n",
    "def square(n):\n",
    "    return n**2\n",
    "list(map(square,arr))"
   ]
  },
  {
   "cell_type": "code",
   "execution_count": 172,
   "metadata": {},
   "outputs": [
    {
     "data": {
      "text/plain": [
       "[2, 4, 6]"
      ]
     },
     "execution_count": 172,
     "metadata": {},
     "output_type": "execute_result"
    }
   ],
   "source": [
    "#filter\n",
    "arr = [1,2,3,4,5,6]\n",
    "def evens(a):\n",
    "    if a%2 == 0:\n",
    "        return a\n",
    "list(filter(evens,arr))"
   ]
  },
  {
   "cell_type": "code",
   "execution_count": 178,
   "metadata": {},
   "outputs": [
    {
     "name": "stdout",
     "output_type": "stream",
     "text": [
      "4\n"
     ]
    }
   ],
   "source": [
    "#arrow or lambda\n",
    "# const a = () =>{ return ashish}\n",
    "square = lambda m : m**2\n",
    "print(square(2))"
   ]
  },
  {
   "cell_type": "code",
   "execution_count": 179,
   "metadata": {},
   "outputs": [
    {
     "data": {
      "text/plain": [
       "[1, 4, 9, 16, 25, 36, 49, 64]"
      ]
     },
     "execution_count": 179,
     "metadata": {},
     "output_type": "execute_result"
    }
   ],
   "source": [
    "a = [1,2,3,4,5,6,7,8]\n",
    "list(map(lambda x: x**2,a))"
   ]
  },
  {
   "cell_type": "code",
   "execution_count": 181,
   "metadata": {},
   "outputs": [
    {
     "data": {
      "text/plain": [
       "[2, 4, 6, 8]"
      ]
     },
     "execution_count": 181,
     "metadata": {},
     "output_type": "execute_result"
    }
   ],
   "source": [
    "list(filter(lambda x: x%2==0,a))"
   ]
  },
  {
   "cell_type": "code",
   "execution_count": 186,
   "metadata": {},
   "outputs": [
    {
     "name": "stdout",
     "output_type": "stream",
     "text": [
      "10\n",
      "50\n"
     ]
    }
   ],
   "source": [
    "#global (its like double initialisation)\n",
    "a = 50\n",
    "def func():\n",
    "        a=10\n",
    "        print(a)\n",
    "func()\n",
    "print(a)\n"
   ]
  },
  {
   "cell_type": "code",
   "execution_count": 187,
   "metadata": {},
   "outputs": [
    {
     "name": "stdout",
     "output_type": "stream",
     "text": [
      "10\n",
      "10\n"
     ]
    }
   ],
   "source": [
    "#global\n",
    "a = 50\n",
    "def func():\n",
    "        global a\n",
    "        a=10\n",
    "        print(a)\n",
    "func()\n",
    "print(a)"
   ]
  },
  {
   "cell_type": "code",
   "execution_count": 189,
   "metadata": {},
   "outputs": [
    {
     "name": "stdout",
     "output_type": "stream",
     "text": [
      "10\n",
      "10\n"
     ]
    }
   ],
   "source": [
    "#without global assignament\n",
    "a = 50\n",
    "def func():\n",
    "        a=10\n",
    "        print(a)\n",
    "        return a\n",
    "a = func()\n",
    "print(a)"
   ]
  },
  {
   "cell_type": "code",
   "execution_count": null,
   "metadata": {},
   "outputs": [],
   "source": []
  }
 ],
 "metadata": {
  "kernelspec": {
   "display_name": "Python 3",
   "language": "python",
   "name": "python3"
  },
  "language_info": {
   "codemirror_mode": {
    "name": "ipython",
    "version": 3
   },
   "file_extension": ".py",
   "mimetype": "text/x-python",
   "name": "python",
   "nbconvert_exporter": "python",
   "pygments_lexer": "ipython3",
   "version": "3.8.5"
  }
 },
 "nbformat": 4,
 "nbformat_minor": 4
}
