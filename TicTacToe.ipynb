{
 "cells": [
  {
   "cell_type": "code",
   "execution_count": null,
   "metadata": {},
   "outputs": [],
   "source": [
    "# take input which is in range 0-10 and integr\n",
    "def user_choice():\n",
    "    result = input('Enter a number in range(0-10): ')\n",
    "    if result.isdigit() == True:\n",
    "        if int(result) in range(0,10):\n",
    "            print(result)\n",
    "        else:\n",
    "            print(\"out of range!\")\n",
    "    else:\n",
    "        print(\"not a digit!\")"
   ]
  },
  {
   "cell_type": "code",
   "execution_count": null,
   "metadata": {},
   "outputs": [],
   "source": [
    "user_choice()"
   ]
  },
  {
   "cell_type": "code",
   "execution_count": 10,
   "metadata": {},
   "outputs": [],
   "source": [
    "#tic tac toe\n",
    "def displayboard(d):\n",
    "    \n",
    "    print(\"   \"+'|'+\"   \"+\"|\"+\"   \")\n",
    "    print(\" \"+d[7]+\" \"+\"|\"+\" \"+d[8]+\" \"+\"|\"+\" \"+d[9]+\" \")\n",
    "    print(\"   \"+'|'+\"   \"+\"|\"+\"   \")\n",
    "    print('-'*11)\n",
    "    print(\"   \"+'|'+\"   \"+\"|\"+\"   \")\n",
    "    print(\" \"+d[4]+\" \"+\"|\"+\" \"+d[5]+\" \"+\"|\"+\" \"+d[6]+\" \")\n",
    "    print(\"   \"+'|'+\"   \"+\"|\"+\"   \")\n",
    "    print('-'*11)\n",
    "    print(\"   \"+'|'+\"   \"+\"|\"+\"   \")\n",
    "    print(\" \"+d[1]+\" \"+\"|\"+\" \"+d[2]+\" \"+\"|\"+\" \"+d[3]+\" \")\n",
    "    print(\"   \"+'|'+\"   \"+\"|\"+\"   \")\n",
    "    \n",
    "    "
   ]
  },
  {
   "cell_type": "code",
   "execution_count": null,
   "metadata": {},
   "outputs": [],
   "source": [
    "# displayboard('1':'a','2':'b','3':'c','4':'d','5':'e','6':'f','7':'g','8':'h','9':'i')\n",
    "displayboard({1:'a',2:'b',3:'c',4:'d',5:'e',6:'f',7:'g',8:'h',9:'i'})"
   ]
  },
  {
   "cell_type": "code",
   "execution_count": 3,
   "metadata": {},
   "outputs": [],
   "source": [
    "def choose():\n",
    "    result = input(\"Choose X or O : \")\n",
    "    return result"
   ]
  },
  {
   "cell_type": "code",
   "execution_count": null,
   "metadata": {},
   "outputs": [],
   "source": [
    "choose()"
   ]
  },
  {
   "cell_type": "code",
   "execution_count": 4,
   "metadata": {},
   "outputs": [],
   "source": [
    "def ready():\n",
    "    result = input(\"Are you ready? (Y|N) \")\n",
    "    if result.upper() == 'Y':\n",
    "        return True\n",
    "    elif result.upper() == 'N':\n",
    "        return False\n",
    "    else:\n",
    "        print(\"invalid choice\")\n",
    "        ready()"
   ]
  },
  {
   "cell_type": "code",
   "execution_count": null,
   "metadata": {},
   "outputs": [],
   "source": [
    "ready()"
   ]
  },
  {
   "cell_type": "code",
   "execution_count": 5,
   "metadata": {},
   "outputs": [],
   "source": [
    "def enter_position(val,mark):\n",
    "    d = val\n",
    "    result = int(input(\"Enter the position (1-9) : \"))\n",
    "    \n",
    "    if result >=1 and result<=9:   \n",
    "     d[result] = mark\n",
    "\n",
    "    return d"
   ]
  },
  {
   "cell_type": "code",
   "execution_count": null,
   "metadata": {},
   "outputs": [],
   "source": []
  },
  {
   "cell_type": "code",
   "execution_count": 18,
   "metadata": {},
   "outputs": [],
   "source": [
    "def check_win(d,mark):\n",
    "    \n",
    "    if d[1] == d[2] == d[3] == mark:\n",
    "        return True\n",
    "    elif d[4] == d[5] == d[6] == mark:\n",
    "        return True\n",
    "    elif d[7] == d[8] == d[9] == mark:\n",
    "        return True\n",
    "    elif d[1] == d[4] == d[7] == mark:\n",
    "        return True\n",
    "    elif d[2] == d[5] == d[8] == mark:\n",
    "        return True \n",
    "    elif d[3] == d[6] == d[9] == mark:\n",
    "        return True\n",
    "    elif d[1] == d[5] == d[9] == mark:\n",
    "        return True\n",
    "    elif d[3] == d[5] == d[7] == mark:\n",
    "        return True\n",
    "\n",
    "    return False"
   ]
  },
  {
   "cell_type": "code",
   "execution_count": null,
   "metadata": {},
   "outputs": [
    {
     "name": "stdout",
     "output_type": "stream",
     "text": [
      "Are you ready? (Y|N) Y\n",
      "Choose X or O : O\n",
      "Enter the position (1-9) : 9\n",
      "   |   |   \n",
      "   |   | O \n",
      "   |   |   \n",
      "-----------\n",
      "   |   |   \n",
      "   |   |   \n",
      "   |   |   \n",
      "-----------\n",
      "   |   |   \n",
      "   |   |   \n",
      "   |   |   \n",
      "Enter the position (1-9) : 6\n",
      "   |   |   \n",
      "   |   | O \n",
      "   |   |   \n",
      "-----------\n",
      "   |   |   \n",
      "   |   | X \n",
      "   |   |   \n",
      "-----------\n",
      "   |   |   \n",
      "   |   |   \n",
      "   |   |   \n",
      "Enter the position (1-9) : 5\n",
      "   |   |   \n",
      "   |   | O \n",
      "   |   |   \n",
      "-----------\n",
      "   |   |   \n",
      "   | O | X \n",
      "   |   |   \n",
      "-----------\n",
      "   |   |   \n",
      "   |   |   \n",
      "   |   |   \n",
      "Enter the position (1-9) : 7\n",
      "   |   |   \n",
      " X |   | O \n",
      "   |   |   \n",
      "-----------\n",
      "   |   |   \n",
      "   | O | X \n",
      "   |   |   \n",
      "-----------\n",
      "   |   |   \n",
      "   |   |   \n",
      "   |   |   \n",
      "Enter the position (1-9) : 1\n",
      "   |   |   \n",
      " X |   | O \n",
      "   |   |   \n",
      "-----------\n",
      "   |   |   \n",
      "   | O | X \n",
      "   |   |   \n",
      "-----------\n",
      "   |   |   \n",
      " O |   |   \n",
      "   |   |   \n",
      "Congratulations O has won\n"
     ]
    }
   ],
   "source": [
    "#final\n",
    "status = ready()\n",
    "count = 0\n",
    "\n",
    "while status:\n",
    "    d = {1:' ',2:' ',3:' ',4:' ',5:' ',6:' ',7:' ',8:' ',9:' '}\n",
    "    mark = choose()\n",
    "    win = False\n",
    "    \n",
    "    if mark == 'X':\n",
    "        mark1 = 'X'\n",
    "        mark2 = 'O'\n",
    "    else:\n",
    "        mark1 = 'O'\n",
    "        mark2 = 'X'\n",
    "        \n",
    "    while count!= 9 :\n",
    "        \n",
    "        d = enter_position(d,mark1)\n",
    "        \n",
    "        displayboard(d)\n",
    "        \n",
    "        win = check_win(d,mark1)\n",
    "        if win != False:\n",
    "            print(\"Congratulations {} has won\".format(mark1))\n",
    "            break\n",
    "        \n",
    "        d = enter_position(d,mark2)\n",
    "        displayboard(d)\n",
    "        \n",
    "        win = check_win(d,mark2)\n",
    "        if win != False:\n",
    "            print(\"Congratulations {} has won\".format(mark2))\n",
    "            break\n",
    "        count +=1\n",
    "    if count == 9:\n",
    "        print(\"Tie\")\n",
    "    status = ready()"
   ]
  },
  {
   "cell_type": "code",
   "execution_count": null,
   "metadata": {},
   "outputs": [],
   "source": []
  }
 ],
 "metadata": {
  "kernelspec": {
   "display_name": "Python 3",
   "language": "python",
   "name": "python3"
  },
  "language_info": {
   "codemirror_mode": {
    "name": "ipython",
    "version": 3
   },
   "file_extension": ".py",
   "mimetype": "text/x-python",
   "name": "python",
   "nbconvert_exporter": "python",
   "pygments_lexer": "ipython3",
   "version": "3.8.5"
  }
 },
 "nbformat": 4,
 "nbformat_minor": 4
}
