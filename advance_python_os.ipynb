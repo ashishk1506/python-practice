{
 "cells": [
  {
   "cell_type": "code",
   "execution_count": 1,
   "metadata": {},
   "outputs": [
    {
     "data": {
      "text/plain": [
       "'C:\\\\Users\\\\ASHISH KUMAR\\\\My Python Stuff'"
      ]
     },
     "execution_count": 1,
     "metadata": {},
     "output_type": "execute_result"
    }
   ],
   "source": [
    "pwd"
   ]
  },
  {
   "cell_type": "code",
   "execution_count": 2,
   "metadata": {},
   "outputs": [],
   "source": [
    "import os"
   ]
  },
  {
   "cell_type": "code",
   "execution_count": 3,
   "metadata": {},
   "outputs": [
    {
     "data": {
      "text/plain": [
       "'C:\\\\Users\\\\ASHISH KUMAR\\\\My Python Stuff'"
      ]
     },
     "execution_count": 3,
     "metadata": {},
     "output_type": "execute_result"
    }
   ],
   "source": [
    "#get current working directory\n",
    "os.getcwd()"
   ]
  },
  {
   "cell_type": "code",
   "execution_count": 4,
   "metadata": {},
   "outputs": [
    {
     "data": {
      "text/plain": [
       "['.ipynb_checkpoints',\n",
       " 'advance_python_collections.ipynb',\n",
       " 'advance_python_os.ipynb',\n",
       " 'decorators.ipynb',\n",
       " 'EroorHandling.ipynb',\n",
       " 'first.ipynb',\n",
       " 'function.ipynb',\n",
       " 'function_homework.ipynb',\n",
       " 'generators.ipynb',\n",
       " 'latering.txt',\n",
       " 'myfile.txt',\n",
       " 'Oop.ipynb',\n",
       " 'oop_Homework_73.ipynb',\n",
       " 'Untitled.ipynb',\n",
       " 'WarGame.ipynb']"
      ]
     },
     "execution_count": 4,
     "metadata": {},
     "output_type": "execute_result"
    }
   ],
   "source": [
    "#list of files in the directory\n",
    "os.listdir()"
   ]
  },
  {
   "cell_type": "code",
   "execution_count": 5,
   "metadata": {},
   "outputs": [
    {
     "data": {
      "text/plain": [
       "['All Users',\n",
       " 'ASHISH KUMAR',\n",
       " 'Default',\n",
       " 'Default User',\n",
       " 'desktop.ini',\n",
       " 'Public']"
      ]
     },
     "execution_count": 5,
     "metadata": {},
     "output_type": "execute_result"
    }
   ],
   "source": [
    "#another directory\n",
    "os.listdir('C:\\\\Users\\\\')"
   ]
  },
  {
   "cell_type": "code",
   "execution_count": 6,
   "metadata": {},
   "outputs": [],
   "source": [
    "#move files using shutil"
   ]
  },
  {
   "cell_type": "code",
   "execution_count": 7,
   "metadata": {},
   "outputs": [],
   "source": [
    "import shutil"
   ]
  },
  {
   "cell_type": "code",
   "execution_count": 8,
   "metadata": {},
   "outputs": [
    {
     "ename": "Error",
     "evalue": "Destination path 'C:\\Users\\ASHISH KUMAR\\ashish.txt' already exists",
     "output_type": "error",
     "traceback": [
      "\u001b[1;31m---------------------------------------------------------------------------\u001b[0m",
      "\u001b[1;31mError\u001b[0m                                     Traceback (most recent call last)",
      "\u001b[1;32m<ipython-input-8-ce5752a506e2>\u001b[0m in \u001b[0;36m<module>\u001b[1;34m\u001b[0m\n\u001b[1;32m----> 1\u001b[1;33m \u001b[0mshutil\u001b[0m\u001b[1;33m.\u001b[0m\u001b[0mmove\u001b[0m\u001b[1;33m(\u001b[0m\u001b[1;34m'ashish.txt'\u001b[0m\u001b[1;33m,\u001b[0m\u001b[1;34m'C:\\\\Users\\\\ASHISH KUMAR'\u001b[0m\u001b[1;33m)\u001b[0m\u001b[1;33m\u001b[0m\u001b[1;33m\u001b[0m\u001b[0m\n\u001b[0m",
      "\u001b[1;32m~\\anaconda3\\lib\\shutil.py\u001b[0m in \u001b[0;36mmove\u001b[1;34m(src, dst, copy_function)\u001b[0m\n\u001b[0;32m    784\u001b[0m         \u001b[0mreal_dst\u001b[0m \u001b[1;33m=\u001b[0m \u001b[0mos\u001b[0m\u001b[1;33m.\u001b[0m\u001b[0mpath\u001b[0m\u001b[1;33m.\u001b[0m\u001b[0mjoin\u001b[0m\u001b[1;33m(\u001b[0m\u001b[0mdst\u001b[0m\u001b[1;33m,\u001b[0m \u001b[0m_basename\u001b[0m\u001b[1;33m(\u001b[0m\u001b[0msrc\u001b[0m\u001b[1;33m)\u001b[0m\u001b[1;33m)\u001b[0m\u001b[1;33m\u001b[0m\u001b[1;33m\u001b[0m\u001b[0m\n\u001b[0;32m    785\u001b[0m         \u001b[1;32mif\u001b[0m \u001b[0mos\u001b[0m\u001b[1;33m.\u001b[0m\u001b[0mpath\u001b[0m\u001b[1;33m.\u001b[0m\u001b[0mexists\u001b[0m\u001b[1;33m(\u001b[0m\u001b[0mreal_dst\u001b[0m\u001b[1;33m)\u001b[0m\u001b[1;33m:\u001b[0m\u001b[1;33m\u001b[0m\u001b[1;33m\u001b[0m\u001b[0m\n\u001b[1;32m--> 786\u001b[1;33m             \u001b[1;32mraise\u001b[0m \u001b[0mError\u001b[0m\u001b[1;33m(\u001b[0m\u001b[1;34m\"Destination path '%s' already exists\"\u001b[0m \u001b[1;33m%\u001b[0m \u001b[0mreal_dst\u001b[0m\u001b[1;33m)\u001b[0m\u001b[1;33m\u001b[0m\u001b[1;33m\u001b[0m\u001b[0m\n\u001b[0m\u001b[0;32m    787\u001b[0m     \u001b[1;32mtry\u001b[0m\u001b[1;33m:\u001b[0m\u001b[1;33m\u001b[0m\u001b[1;33m\u001b[0m\u001b[0m\n\u001b[0;32m    788\u001b[0m         \u001b[0mos\u001b[0m\u001b[1;33m.\u001b[0m\u001b[0mrename\u001b[0m\u001b[1;33m(\u001b[0m\u001b[0msrc\u001b[0m\u001b[1;33m,\u001b[0m \u001b[0mreal_dst\u001b[0m\u001b[1;33m)\u001b[0m\u001b[1;33m\u001b[0m\u001b[1;33m\u001b[0m\u001b[0m\n",
      "\u001b[1;31mError\u001b[0m: Destination path 'C:\\Users\\ASHISH KUMAR\\ashish.txt' already exists"
     ]
    }
   ],
   "source": [
    "shutil.move('ashish.txt','C:\\\\Users\\\\ASHISH KUMAR')"
   ]
  },
  {
   "cell_type": "code",
   "execution_count": null,
   "metadata": {},
   "outputs": [],
   "source": [
    "#delete files rmtree(permanent file+folder), rmdir(folder), unlink(file)"
   ]
  },
  {
   "cell_type": "code",
   "execution_count": null,
   "metadata": {},
   "outputs": [],
   "source": [
    "import send2trash"
   ]
  },
  {
   "cell_type": "code",
   "execution_count": null,
   "metadata": {},
   "outputs": [],
   "source": [
    "send2trash.send2trash('ashish.txt')"
   ]
  },
  {
   "cell_type": "code",
   "execution_count": null,
   "metadata": {},
   "outputs": [],
   "source": [
    "os.listdir()"
   ]
  },
  {
   "cell_type": "code",
   "execution_count": 20,
   "metadata": {},
   "outputs": [
    {
     "name": "stdout",
     "output_type": "stream",
     "text": [
      "folders are C:\\Users\\ASHISH KUMAR\\Desktop\\python-practice\\MainPackage\n",
      "\n",
      " \t subfolders are \n",
      "subPackage\n",
      "__pycache__\n",
      "\n",
      " \t files are \n",
      "some_main_script.py\n",
      "__init__.py\n",
      "folders are C:\\Users\\ASHISH KUMAR\\Desktop\\python-practice\\MainPackage\\subPackage\n",
      "\n",
      " \t subfolders are \n",
      "__pycache__\n",
      "\n",
      " \t files are \n",
      "my_subscript.py\n",
      "__init__.py\n",
      "folders are C:\\Users\\ASHISH KUMAR\\Desktop\\python-practice\\MainPackage\\subPackage\\__pycache__\n",
      "\n",
      " \t subfolders are \n",
      "\n",
      " \t files are \n",
      "my_subscript.cpython-38.pyc\n",
      "__init__.cpython-38.pyc\n",
      "folders are C:\\Users\\ASHISH KUMAR\\Desktop\\python-practice\\MainPackage\\__pycache__\n",
      "\n",
      " \t subfolders are \n",
      "\n",
      " \t files are \n",
      "some_main_script.cpython-38.pyc\n",
      "__init__.cpython-38.pyc\n"
     ]
    }
   ],
   "source": [
    "filename = r'C:\\Users\\ASHISH KUMAR\\Desktop\\python-practice\\MainPackage'\n",
    "for folder,sub_folders,files in os.walk(filename):\n",
    "    print(f'folders are {folder}')\n",
    "    \n",
    "    print(f'\\n \\t subfolders are ')\n",
    "    for x in sub_folders:\n",
    "        print(x)\n",
    "    print(f'\\n \\t files are ')\n",
    "    for x in files:\n",
    "        print(x)\n",
    " "
   ]
  },
  {
   "cell_type": "code",
   "execution_count": null,
   "metadata": {},
   "outputs": [],
   "source": []
  }
 ],
 "metadata": {
  "kernelspec": {
   "display_name": "Python 3",
   "language": "python",
   "name": "python3"
  },
  "language_info": {
   "codemirror_mode": {
    "name": "ipython",
    "version": 3
   },
   "file_extension": ".py",
   "mimetype": "text/x-python",
   "name": "python",
   "nbconvert_exporter": "python",
   "pygments_lexer": "ipython3",
   "version": "3.8.5"
  }
 },
 "nbformat": 4,
 "nbformat_minor": 4
}
